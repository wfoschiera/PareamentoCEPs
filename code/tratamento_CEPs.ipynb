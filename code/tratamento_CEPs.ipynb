{
 "cells": [
  {
   "cell_type": "markdown",
   "metadata": {},
   "source": [
    "### Lógica:\n",
    "- Extrair a lista de CEPs a partir de um dataframe e remover registros duplicados\n",
    "- Buscar no database se um registro de CEP com localidade já existe (consumir menos dados da API e otimizar processamento)\n",
    "- Se o registro existir, pular para o próximo CEP\n",
    "- Se o registro não existir, consultar a localidade utilizando API externa\n",
    "- Salvar o registro no DB e continuar a busca, até finalizar.\n",
    "- Realizar a união dos valores de localidade do DB com os CEPs das localidades do relatório do BDO\n",
    "- Reorganizar ordem das colunas do relatório e eliminar colunas inválidas\n",
    "- Aplicar filtros de acordo com as regras de negócio e salvar as saídas em arquivos csv."
   ]
  },
  {
   "cell_type": "markdown",
   "metadata": {},
   "source": [
    "### Este jupyter notebook é responsável por agregar as funções e executar o código de forma mais clara ao usuário. Apesar disso, melhorias são necessárias para torná-lo mais legível."
   ]
  },
  {
   "cell_type": "code",
   "execution_count": 1,
   "metadata": {},
   "outputs": [],
   "source": [
    "#Esta função é responsável por carregar o arquivo CSV extraído do BDO e filtrar todos os CEPs e eliminar duplicados.\n",
    "from utils.csv_manager import csv_loader\n",
    "\n",
    "#Esta é responsável pelo tratamento dos dados do banco. Dentro do pacote db_manager existem as funções cep_loader, responsável\n",
    "#por verificar se um registro já existe no BD e se não existir, fazer a consulta da localidade a partir do CEP.\n",
    "#A função join_db_with_csv é responsável por fazer o join da localidade presente no DB, na planilha do BDO. Para tanto\n",
    "#o valor do CEP é utilizado como chave única.\n",
    "from utils import db_manager"
   ]
  },
  {
   "cell_type": "code",
   "execution_count": 2,
   "metadata": {},
   "outputs": [],
   "source": [
    "caminho_do_csv = '../bdo_csv/bdo_report_16-02-2021-16-55-00.csv'\n",
    "ceps_csv = csv_loader(caminho_do_csv)"
   ]
  },
  {
   "cell_type": "markdown",
   "metadata": {},
   "source": [
    "Salva o csv localmente. Será utilizado como entrada para buscar os CEPs"
   ]
  },
  {
   "cell_type": "code",
   "execution_count": 3,
   "metadata": {},
   "outputs": [],
   "source": [
    "ceps_csv.to_csv('../data/ceps_sem_localidades.csv', sep=',', header=['CEP'], index=False)"
   ]
  },
  {
   "cell_type": "markdown",
   "metadata": {},
   "source": [
    "### Data cleaning finished. Now, start to populate the db"
   ]
  },
  {
   "cell_type": "markdown",
   "metadata": {},
   "source": [
    "Esta função cria o DB e/ou tabelas se não existirem. Depois, verifica se um CEP já existe na tabela, se não, busca na API externa."
   ]
  },
  {
   "cell_type": "code",
   "execution_count": null,
   "metadata": {},
   "outputs": [],
   "source": [
    "db_manager.cep_loader()"
   ]
  },
  {
   "cell_type": "markdown",
   "metadata": {},
   "source": [
    " - db_file -> Caminho para o db populado com as localidades. Por padrão, será criado na pasta '../data/cepsdb.db'\n",
    " - csv_file -> Caminho onde está salvo o relatório extraído do bdo, em formato csv.\n"
   ]
  },
  {
   "cell_type": "code",
   "execution_count": 4,
   "metadata": {},
   "outputs": [],
   "source": [
    "db_file = '../data/cepsdb.db'\n",
    "csv_file = '../bdo_csv/bdo_report_16-02-2021-16-55-00.csv'\n",
    "\n",
    "df, nao_localizado = db_manager.join_db_with_csv(db_file, csv_file)"
   ]
  },
  {
   "cell_type": "code",
   "execution_count": 6,
   "metadata": {},
   "outputs": [
    {
     "name": "stdout",
     "output_type": "stream",
     "text": [
      "Os ceps não localizados são: ['nan', 'nan', 'nan']\n",
      "Se estiver visualizando uma lista com valores iguais a \"nan\", \n",
      "significa que foram encontrados CEPs inválidos e por isso não foram associados.\n"
     ]
    }
   ],
   "source": [
    "print(f'Os ceps não localizados são: {nao_localizado}\\nSe estiver visualizando uma lista com valores iguais a \"nan\", \\nsignifica que foram encontrados CEPs inválidos e por isso não foram associados.')"
   ]
  },
  {
   "cell_type": "code",
   "execution_count": 5,
   "metadata": {},
   "outputs": [],
   "source": [
    "df.head(5)"
   ]
  },
  {
   "cell_type": "code",
   "execution_count": 23,
   "metadata": {},
   "outputs": [
    {
     "data": {
      "text/html": [
       "<div>\n",
       "<style scoped>\n",
       "    .dataframe tbody tr th:only-of-type {\n",
       "        vertical-align: middle;\n",
       "    }\n",
       "\n",
       "    .dataframe tbody tr th {\n",
       "        vertical-align: top;\n",
       "    }\n",
       "\n",
       "    .dataframe thead th {\n",
       "        text-align: right;\n",
       "    }\n",
       "</style>\n",
       "<table border=\"1\" class=\"dataframe\">\n",
       "  <thead>\n",
       "    <tr style=\"text-align: right;\">\n",
       "      <th></th>\n",
       "      <th>Cod. Pareamento</th>\n",
       "      <th>Cod. UF</th>\n",
       "      <th>Sigla UF</th>\n",
       "      <th>Cod. Subarea</th>\n",
       "      <th>Nome Subarea</th>\n",
       "      <th>Cod. Municipio</th>\n",
       "      <th>Nome Municipio</th>\n",
       "      <th>Codigo Agencia</th>\n",
       "      <th>Nome Agencia</th>\n",
       "      <th>Cod. Setor</th>\n",
       "      <th>...</th>\n",
       "      <th>CEP Logradouro CNEFE</th>\n",
       "      <th>CEPs Face</th>\n",
       "      <th>Localidade Face</th>\n",
       "      <th>Alterar Logradouro para DNE?</th>\n",
       "      <th>Observaçao</th>\n",
       "      <th>SIAPE Alteração</th>\n",
       "      <th>Nome Alteraçao</th>\n",
       "      <th>Data_Alteraçao</th>\n",
       "      <th>Status</th>\n",
       "      <th>Filtro</th>\n",
       "    </tr>\n",
       "  </thead>\n",
       "  <tbody>\n",
       "    <tr>\n",
       "      <th>0</th>\n",
       "      <td>181411</td>\n",
       "      <td>51</td>\n",
       "      <td>MT</td>\n",
       "      <td>510340300</td>\n",
       "      <td>CUIABÁ I</td>\n",
       "      <td>5103403200</td>\n",
       "      <td>Cuiabá I</td>\n",
       "      <td>5103403</td>\n",
       "      <td>CUIABÁ</td>\n",
       "      <td>510340305400003</td>\n",
       "      <td>...</td>\n",
       "      <td>78058000</td>\n",
       "      <td>78055714, 78058000</td>\n",
       "      <td>NOVO PARAISO</td>\n",
       "      <td>SIM</td>\n",
       "      <td>Em pesquisa ao Google Maps, DNE e cadastro do ...</td>\n",
       "      <td>2317283</td>\n",
       "      <td>Micael Etiene de Souza</td>\n",
       "      <td>2021-02-02 16:11:40</td>\n",
       "      <td>Analisado</td>\n",
       "      <td>False</td>\n",
       "    </tr>\n",
       "    <tr>\n",
       "      <th>1</th>\n",
       "      <td>181545</td>\n",
       "      <td>51</td>\n",
       "      <td>MT</td>\n",
       "      <td>510340300</td>\n",
       "      <td>CUIABÁ I</td>\n",
       "      <td>5103403200</td>\n",
       "      <td>Cuiabá I</td>\n",
       "      <td>5103403</td>\n",
       "      <td>CUIABÁ</td>\n",
       "      <td>510340305400007</td>\n",
       "      <td>...</td>\n",
       "      <td>78048000</td>\n",
       "      <td>78048000</td>\n",
       "      <td>PAIAGUAS</td>\n",
       "      <td>NAO</td>\n",
       "      <td>As localidades na pesquisa do DNE que aparecem...</td>\n",
       "      <td>3160972</td>\n",
       "      <td>Elaine Cristina Teixeira Pinto</td>\n",
       "      <td>2021-02-03 13:36:50</td>\n",
       "      <td>Analisado</td>\n",
       "      <td>False</td>\n",
       "    </tr>\n",
       "    <tr>\n",
       "      <th>2</th>\n",
       "      <td>181546</td>\n",
       "      <td>51</td>\n",
       "      <td>MT</td>\n",
       "      <td>510340300</td>\n",
       "      <td>CUIABÁ I</td>\n",
       "      <td>5103403200</td>\n",
       "      <td>Cuiabá I</td>\n",
       "      <td>5103403</td>\n",
       "      <td>CUIABÁ</td>\n",
       "      <td>510340305400007</td>\n",
       "      <td>...</td>\n",
       "      <td>78048000</td>\n",
       "      <td>78048000</td>\n",
       "      <td>PAIAGUAS</td>\n",
       "      <td>NAO</td>\n",
       "      <td>Em consulta Google Maps, consta no DNE como Jo...</td>\n",
       "      <td>3160972</td>\n",
       "      <td>Elaine Cristina Teixeira Pinto</td>\n",
       "      <td>2021-02-03 14:08:39</td>\n",
       "      <td>Analisado</td>\n",
       "      <td>False</td>\n",
       "    </tr>\n",
       "    <tr>\n",
       "      <th>3</th>\n",
       "      <td>179777</td>\n",
       "      <td>51</td>\n",
       "      <td>MT</td>\n",
       "      <td>510340300</td>\n",
       "      <td>CUIABÁ I</td>\n",
       "      <td>5103403200</td>\n",
       "      <td>Cuiabá I</td>\n",
       "      <td>5103403</td>\n",
       "      <td>CUIABÁ</td>\n",
       "      <td>510340305400011</td>\n",
       "      <td>...</td>\n",
       "      <td>78048000</td>\n",
       "      <td>78048000</td>\n",
       "      <td>JARDIM ITAPUA PAIAGUAS</td>\n",
       "      <td>NAO</td>\n",
       "      <td>Após consulta Google Maps, DNE e Consulta do C...</td>\n",
       "      <td>3160972</td>\n",
       "      <td>Elaine Cristina Teixeira Pinto</td>\n",
       "      <td>2021-02-03 15:12:10</td>\n",
       "      <td>Analisado</td>\n",
       "      <td>False</td>\n",
       "    </tr>\n",
       "    <tr>\n",
       "      <th>4</th>\n",
       "      <td>181424</td>\n",
       "      <td>51</td>\n",
       "      <td>MT</td>\n",
       "      <td>510340300</td>\n",
       "      <td>CUIABÁ I</td>\n",
       "      <td>5103403200</td>\n",
       "      <td>Cuiabá I</td>\n",
       "      <td>5103403</td>\n",
       "      <td>CUIABÁ</td>\n",
       "      <td>510340305400014</td>\n",
       "      <td>...</td>\n",
       "      <td>78048000</td>\n",
       "      <td>78048000</td>\n",
       "      <td>CATEDRAL PAIAGUAS</td>\n",
       "      <td>NAO</td>\n",
       "      <td>Em consulta ao Google Maps, DNE e Consulta CNE...</td>\n",
       "      <td>3160972</td>\n",
       "      <td>Elaine Cristina Teixeira Pinto</td>\n",
       "      <td>2021-02-03 16:12:02</td>\n",
       "      <td>Analisado</td>\n",
       "      <td>False</td>\n",
       "    </tr>\n",
       "  </tbody>\n",
       "</table>\n",
       "<p>5 rows × 35 columns</p>\n",
       "</div>"
      ],
      "text/plain": [
       "  Cod. Pareamento Cod. UF Sigla UF Cod. Subarea Nome Subarea  Cod. Municipio  \\\n",
       "0          181411      51       MT    510340300     CUIABÁ I      5103403200   \n",
       "1          181545      51       MT    510340300     CUIABÁ I      5103403200   \n",
       "2          181546      51       MT    510340300     CUIABÁ I      5103403200   \n",
       "3          179777      51       MT    510340300     CUIABÁ I      5103403200   \n",
       "4          181424      51       MT    510340300     CUIABÁ I      5103403200   \n",
       "\n",
       "  Nome Municipio  Codigo Agencia Nome Agencia      Cod. Setor  ...  \\\n",
       "0       Cuiabá I         5103403       CUIABÁ 510340305400003  ...   \n",
       "1       Cuiabá I         5103403       CUIABÁ 510340305400007  ...   \n",
       "2       Cuiabá I         5103403       CUIABÁ 510340305400007  ...   \n",
       "3       Cuiabá I         5103403       CUIABÁ 510340305400011  ...   \n",
       "4       Cuiabá I         5103403       CUIABÁ 510340305400014  ...   \n",
       "\n",
       "   CEP Logradouro CNEFE           CEPs Face         Localidade Face  \\\n",
       "0              78058000  78055714, 78058000            NOVO PARAISO   \n",
       "1              78048000            78048000                PAIAGUAS   \n",
       "2              78048000            78048000                PAIAGUAS   \n",
       "3              78048000            78048000  JARDIM ITAPUA PAIAGUAS   \n",
       "4              78048000            78048000       CATEDRAL PAIAGUAS   \n",
       "\n",
       "  Alterar Logradouro para DNE?  \\\n",
       "0                          SIM   \n",
       "1                          NAO   \n",
       "2                          NAO   \n",
       "3                          NAO   \n",
       "4                          NAO   \n",
       "\n",
       "                                          Observaçao SIAPE Alteração  \\\n",
       "0  Em pesquisa ao Google Maps, DNE e cadastro do ...         2317283   \n",
       "1  As localidades na pesquisa do DNE que aparecem...         3160972   \n",
       "2  Em consulta Google Maps, consta no DNE como Jo...         3160972   \n",
       "3  Após consulta Google Maps, DNE e Consulta do C...         3160972   \n",
       "4  Em consulta ao Google Maps, DNE e Consulta CNE...         3160972   \n",
       "\n",
       "                   Nome Alteraçao      Data_Alteraçao     Status Filtro  \n",
       "0          Micael Etiene de Souza 2021-02-02 16:11:40  Analisado  False  \n",
       "1  Elaine Cristina Teixeira Pinto 2021-02-03 13:36:50  Analisado  False  \n",
       "2  Elaine Cristina Teixeira Pinto 2021-02-03 14:08:39  Analisado  False  \n",
       "3  Elaine Cristina Teixeira Pinto 2021-02-03 15:12:10  Analisado  False  \n",
       "4  Elaine Cristina Teixeira Pinto 2021-02-03 16:12:02  Analisado  False  \n",
       "\n",
       "[5 rows x 35 columns]"
      ]
     },
     "execution_count": 23,
     "metadata": {},
     "output_type": "execute_result"
    }
   ],
   "source": [
    "#Corrige formatação dos campos CEP e Localidade DNE para serem salvos no arquivo xlsx\n",
    "df_copy = df.copy()\n",
    "df_copy['CEP String'] = [', '.join(map(str, l)) for l in df_copy['CEP']]\n",
    "df_copy['Localidade DNE String'] = [', '.join(map(str, l)) for l in df_copy['Localidade DNE']]\n",
    "df_copy['CEP'] = df_copy['CEP String']\n",
    "df_copy['Localidade DNE'] = df_copy['Localidade DNE String']\n",
    "df_copy = df_copy.drop(columns = ['Localidade DNE String', 'CEP String'])\n",
    "\n",
    "df = df_copy\n",
    "df.head(5)"
   ]
  },
  {
   "cell_type": "markdown",
   "metadata": {},
   "source": [
    "# Filtrando dados de acordo com as regras de negócio"
   ]
  },
  {
   "cell_type": "code",
   "execution_count": 24,
   "metadata": {},
   "outputs": [],
   "source": [
    "import pandas as pd\n",
    "import numpy as np\n",
    "pd.set_option('display.float_format', '{:.0f}'.format)"
   ]
  },
  {
   "cell_type": "markdown",
   "metadata": {},
   "source": [
    "### Cria uma máscara booleana para filtrar valores onde o campo Alterar Logradouro para DNE seja True or False"
   ]
  },
  {
   "cell_type": "code",
   "execution_count": 39,
   "metadata": {
    "scrolled": true
   },
   "outputs": [
    {
     "data": {
      "text/plain": [
       "(65, 35)"
      ]
     },
     "execution_count": 39,
     "metadata": {},
     "output_type": "execute_result"
    }
   ],
   "source": [
    "mask = dict()\n",
    "for index, row in df.iterrows():\n",
    "\n",
    "    try:\n",
    "        mask[index] = str(int(row['CEP Logradouro CNEFE'])) in row['CEP'].split(',')\n",
    "    except:\n",
    "        mask[index] = False\n",
    "\n",
    "df['Filtro'] = pd.Series(mask)"
   ]
  },
  {
   "cell_type": "markdown",
   "metadata": {},
   "source": [
    "## Regras de negócio:"
   ]
  },
  {
   "cell_type": "markdown",
   "metadata": {},
   "source": [
    "### Regra 1\n",
    "* Retornar casos onde: $ CEP ~ Logradouro ~ CNEFE ⊂ CEP ~~ \\& ~~ Alterar Logradouro para DNE? == NAO$"
   ]
  },
  {
   "cell_type": "code",
   "execution_count": 41,
   "metadata": {},
   "outputs": [
    {
     "data": {
      "text/plain": [
       "(65, 35)"
      ]
     },
     "execution_count": 41,
     "metadata": {},
     "output_type": "execute_result"
    }
   ],
   "source": [
    "#filtra por CEPs_CNEFE contidos na lista de CEPs DNE\n",
    "df_regra1 = df.loc[df['Filtro'] == True]\n",
    "\n",
    "#Filtra pelo atributo Alterar Log... DNE == 'NAO'\n",
    "df_regra1 = df_regra1.loc[df_regra1['Alterar Logradouro para DNE?'] == 'NAO']\n",
    "df_regra1.shape"
   ]
  },
  {
   "cell_type": "code",
   "execution_count": 44,
   "metadata": {},
   "outputs": [],
   "source": [
    "#exporta dataframe em formato csv\n",
    "df_copy1.to_excel('../data/regra1_cepcnefe_in_cepdne_alteradne_nao.xlsx')"
   ]
  },
  {
   "cell_type": "markdown",
   "metadata": {},
   "source": [
    "### Regra 2\n",
    "* Retornar casos onde: $ CEP ~ Logradouro ~ CNEFE ⊄ CEP ~~ \\& ~~ Alterar Logradouro para DNE? == SIM$"
   ]
  },
  {
   "cell_type": "code",
   "execution_count": 46,
   "metadata": {
    "scrolled": true
   },
   "outputs": [
    {
     "data": {
      "text/plain": [
       "(1373, 35)"
      ]
     },
     "execution_count": 46,
     "metadata": {},
     "output_type": "execute_result"
    }
   ],
   "source": [
    "#filtra por CEPs_CNEFE não contidos na lista de CEPs DNE\n",
    "df_regra2 = df.loc[df['Filtro'] == False]\n",
    "\n",
    "#Filtra pelo atributo Alterar Log... DNE == 'SIM'\n",
    "df_regra2 = df_regra2.loc[df_regra2['Alterar Logradouro para DNE?'] == 'SIM']\n",
    "df_regra2.shape"
   ]
  },
  {
   "cell_type": "code",
   "execution_count": 49,
   "metadata": {},
   "outputs": [],
   "source": [
    "#exporta dataframe em formato xlsx\n",
    "df_regra2.to_excel('../data/regra2_cepcnefe_not_in_cepdne_alteradne_sim.xlsx')"
   ]
  },
  {
   "cell_type": "markdown",
   "metadata": {},
   "source": [
    "## Verifica por que a localidade morada da serra é a única salva como string ao invés de lista"
   ]
  },
  {
   "cell_type": "code",
   "execution_count": null,
   "metadata": {},
   "outputs": [],
   "source": []
  }
 ],
 "metadata": {
  "kernelspec": {
   "display_name": "Python 3",
   "language": "python",
   "name": "python3"
  },
  "language_info": {
   "codemirror_mode": {
    "name": "ipython",
    "version": 3
   },
   "file_extension": ".py",
   "mimetype": "text/x-python",
   "name": "python",
   "nbconvert_exporter": "python",
   "pygments_lexer": "ipython3",
   "version": "3.8.5"
  }
 },
 "nbformat": 4,
 "nbformat_minor": 4
}
